{
 "cells": [
  {
   "cell_type": "code",
   "execution_count": null,
   "id": "d7d46944-dc72-48b7-8f39-1b56c5bfd36b",
   "metadata": {},
   "outputs": [],
   "source": [
    "import os\n",
    "import csv"
   ]
  },
  {
   "cell_type": "code",
   "execution_count": null,
   "id": "9bd012cb-09ac-4154-af63-ce735247d4a0",
   "metadata": {},
   "outputs": [],
   "source": [
    "# Download files\n",
    "! wget https://ftp.ncbi.nlm.nih.gov/genomes/genbank/archaea/assembly_summary.txt -O data/ncbi_archaea.txt\n",
    "! wget https://ftp.ncbi.nlm.nih.gov/genomes/genbank/bacteria/assembly_summary.txt -O data/ncbi_bacteria.txt\n",
    "! wget https://data.gtdb.ecogenomic.org/releases/latest/bac120_metadata.tar.gz -P data\n",
    "! tar -zxvf data/bac120_metadata.tar.gz -C data\n",
    "! wget https://data.gtdb.ecogenomic.org/releases/latest/ar53_metadata.tar.gz -P data\n",
    "! tar -zxvf data/ar53_metadata.tar.gz -C data"
   ]
  },
  {
   "cell_type": "code",
   "execution_count": null,
   "id": "67fdbd88-31da-455b-bf06-e425a09e5117",
   "metadata": {},
   "outputs": [],
   "source": [
    "# determine gtdb release number\n",
    "release_no = [_.split(\"_\")[2].split(\".\")[0] for _ in os.listdir(\"data\") if _.startswith(\"bac120_metadata_\")][0]"
   ]
  },
  {
   "cell_type": "code",
   "execution_count": null,
   "id": "31b873f7-d94a-460b-8b39-b4d81bd1251e",
   "metadata": {},
   "outputs": [],
   "source": [
    "# Get ftp paths\n",
    "ftp_paths = {}\n",
    "for domain in [\"archaea\", \"bacteria\"]:\n",
    "    path = \"data/ncbi_%s.txt\" % domain\n",
    "    with open(path) as f:\n",
    "        next(f)\n",
    "        for r in csv.DictReader(f, delimiter=\"\\t\"):\n",
    "            ftp_paths[r['# assembly_accession']] = r['ftp_path']"
   ]
  },
  {
   "cell_type": "code",
   "execution_count": null,
   "id": "ce10e7b3-db02-4aec-b1b5-355e3596f89d",
   "metadata": {},
   "outputs": [],
   "source": [
    "# Match gtdb genomes to ftp paths\n",
    "gtdb_list = {}\n",
    "for domain in [\"bac120\", \"ar53\"]:\n",
    "    path = \"data/%s_metadata_%s.tsv\" % (domain, release_no)\n",
    "    with open(path) as f:\n",
    "        for r in csv.DictReader(f, delimiter=\"\\t\"):\n",
    "            id = r[\"accession\"].split(\"_\",1)[1].replace(\"GCF\", \"GCA\")\n",
    "            if id in ftp_paths:\n",
    "                gtdb_list[r[\"accession\"]] = ftp_paths[id]\n",
    "            elif id.replace(\".1\", \".2\") in ftp_paths:\n",
    "                id = id.replace(\".1\", \".2\")\n",
    "                gtdb_list[id] = ftp_paths[id]"
   ]
  },
  {
   "cell_type": "code",
   "execution_count": null,
   "id": "1c238f2b-ad2c-4c2a-aa5f-ea4b8cfbbe0a",
   "metadata": {},
   "outputs": [],
   "source": [
    "# Create list of wget commands to download genomes\n",
    "with open(\"data/wget_commands.list\", \"w\") as out:\n",
    "    if not os.path.exists(\"data/gtdb_fna\"): os.makedirs(\"data/gtdb_fna\")\n",
    "    for id, ftp in gtdb_list.items():\n",
    "        base = ftp.split(\"/\")[-1]\n",
    "        cmd = \"wget %s/%s_genomic.fna.gz -O data/gtdb_fna/%s.fna.gz\" % (ftp, base, id)\n",
    "        out.write(cmd+\"\\n\")"
   ]
  },
  {
   "cell_type": "code",
   "execution_count": null,
   "id": "69ac7ced-7f5c-4325-baa9-309a8df4aa74",
   "metadata": {},
   "outputs": [],
   "source": [
    "# Download GTDB genomes in parallel\n",
    "! module load parallel && parallel < data/wget_commands.list &> data/parallel.log\n",
    "! ls data/gtdb_fna/* > data/gtdb_paths.list"
   ]
  },
  {
   "cell_type": "code",
   "execution_count": null,
   "id": "6a7ec0d5-79ae-4da5-8719-107ed83a7e2e",
   "metadata": {},
   "outputs": [],
   "source": [
    "# List IMG genomes\n",
    "dir=\"/global/dna/projectdirs/microbial/img_web_data_secondary/taxon.fna\"\n",
    "paths = [os.path.join(dir, f) for f in os.listdir(dir) if f.endswith(\".fna\")]\n",
    "with open(\"data/img.list\", \"w\") as f:\n",
    "    for i, p in enumerate(paths):\n",
    "        if not i % 1000: print(i)\n",
    "        if os.stat(p).st_size > 500:\n",
    "            f.write(p+\"\\n\")"
   ]
  },
  {
   "cell_type": "code",
   "execution_count": null,
   "id": "437bce69-4b3b-4fbc-82ab-1c13f09299b4",
   "metadata": {},
   "outputs": [],
   "source": [
    "# Make mash sketch of IMG genomes\n",
    "! mash sketch -p 64 data/img.list -l -o data/img #&> data/mash_sketch.log"
   ]
  },
  {
   "cell_type": "code",
   "execution_count": null,
   "id": "014716cd-df6d-4747-825e-623448e02f5e",
   "metadata": {},
   "outputs": [],
   "source": [
    "%%bash \n",
    "# Search GTDB vs IMG genomes\n",
    "\n",
    "mash dist -p 64 data/img.msh data/gtdb_paths.list -l \
| awk 'BEGIN{OFS=FS="\t"}NR==1{R=$1;Q=$2;D=$3}{if($2!=Q){print R,Q,D;R=$1;Q=$2;D=$3};if($3<D){R=$1;D=$3};Q=$2}END{print R,Q,D}' \
> data/mash_dist.tsv"
   ]
  },
  {
   "cell_type": "code",
   "execution_count": null,
   "id": "77a00580-a481-40e2-a957-ee941b0f3e1e",
   "metadata": {},
   "outputs": [],
   "source": []
  }
 ],
 "metadata": {
  "kernelspec": {
   "display_name": "py3",
   "language": "python",
   "name": "py3"
  },
  "language_info": {
   "codemirror_mode": {
    "name": "ipython",
    "version": 3
   },
   "file_extension": ".py",
   "mimetype": "text/x-python",
   "name": "python",
   "nbconvert_exporter": "python",
   "pygments_lexer": "ipython3",
   "version": "3.9.13"
  }
 },
 "nbformat": 4,
 "nbformat_minor": 5
}
